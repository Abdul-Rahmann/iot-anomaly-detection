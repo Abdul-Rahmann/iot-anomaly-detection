{
 "cells": [
  {
   "metadata": {
    "ExecuteTime": {
     "end_time": "2025-03-17T01:52:02.506107Z",
     "start_time": "2025-03-17T01:52:02.491160Z"
    }
   },
   "cell_type": "code",
   "source": "import pandas as pd",
   "id": "592485c144773aae",
   "outputs": [],
   "execution_count": 20
  },
  {
   "metadata": {
    "ExecuteTime": {
     "end_time": "2025-03-17T01:52:02.549959Z",
     "start_time": "2025-03-17T01:52:02.512555Z"
    }
   },
   "cell_type": "code",
   "source": [
    "df_normal = pd.read_parquet(\"../data/processed/df_normal.parquet\")\n",
    "df_anomaly = pd.read_parquet(\"../data/processed/df_anomaly.parquet\")\n",
    "\n",
    "print(f\"Normal data shape: {df_normal.shape}\")\n",
    "print(f\"Anomaly data shape: {df_anomaly.shape}\")"
   ],
   "id": "1a660134c41526b3",
   "outputs": [
    {
     "name": "stdout",
     "output_type": "stream",
     "text": [
      "Normal data shape: (316443, 13)\n",
      "Anomaly data shape: (127391, 13)\n"
     ]
    }
   ],
   "execution_count": 21
  },
  {
   "metadata": {},
   "cell_type": "markdown",
   "source": "#### Isolation Forest",
   "id": "a78365ccc27034a1"
  },
  {
   "metadata": {
    "ExecuteTime": {
     "end_time": "2025-03-17T01:52:05.285735Z",
     "start_time": "2025-03-17T01:52:02.563111Z"
    }
   },
   "cell_type": "code",
   "source": [
    "from sklearn.ensemble import IsolationForest\n",
    "from sklearn.metrics import classification_report\n",
    "\n",
    "model = IsolationForest(contamination=0.05, random_state=42)\n",
    "model.fit(df_normal)\n",
    "\n",
    "y_pred_normal = model.predict(df_normal)\n",
    "y_pred_anomaly = model.predict(df_anomaly)\n",
    "\n",
    "y_true = [1] * len(y_pred_normal) + [-1] * len(y_pred_anomaly)\n",
    "y_pred = list(y_pred_normal) + list(y_pred_anomaly)\n",
    "\n",
    "# Compute evaluation metrics\n",
    "print(classification_report(y_true, y_pred))"
   ],
   "id": "7e02ea7beeebe64a",
   "outputs": [
    {
     "name": "stdout",
     "output_type": "stream",
     "text": [
      "              precision    recall  f1-score   support\n",
      "\n",
      "          -1       0.29      0.05      0.09    127391\n",
      "           1       0.71      0.95      0.81    316443\n",
      "\n",
      "    accuracy                           0.69    443834\n",
      "   macro avg       0.50      0.50      0.45    443834\n",
      "weighted avg       0.59      0.69      0.61    443834\n",
      "\n"
     ]
    }
   ],
   "execution_count": 22
  },
  {
   "metadata": {
    "ExecuteTime": {
     "end_time": "2025-03-17T01:52:10.554394Z",
     "start_time": "2025-03-17T01:52:05.294641Z"
    }
   },
   "cell_type": "code",
   "source": [
    "# Tuning IsolationForest for better performance\n",
    "from sklearn.ensemble import IsolationForest\n",
    "from sklearn.metrics import classification_report\n",
    "\n",
    "# Tune Isolation Forest\n",
    "model = IsolationForest(\n",
    "    n_estimators=200,        # Increase trees for better anomaly detection\n",
    "    max_samples=256,         # Control the number of samples per tree\n",
    "    contamination=0.1,       # Adjust based on expected anomaly proportion\n",
    "    random_state=42\n",
    ")\n",
    "model.fit(df_normal)\n",
    "\n",
    "y_pred_normal = model.predict(df_normal)\n",
    "y_pred_anomaly = model.predict(df_anomaly)\n",
    "\n",
    "y_true = [1] * len(y_pred_normal) + [-1] * len(y_pred_anomaly)\n",
    "y_pred = list(y_pred_normal) + list(y_pred_anomaly)\n",
    "\n",
    "print(classification_report(y_true, y_pred))"
   ],
   "id": "bb0a6ae8b4f01998",
   "outputs": [
    {
     "name": "stdout",
     "output_type": "stream",
     "text": [
      "              precision    recall  f1-score   support\n",
      "\n",
      "          -1       0.29      0.10      0.15    127391\n",
      "           1       0.71      0.90      0.80    316443\n",
      "\n",
      "    accuracy                           0.67    443834\n",
      "   macro avg       0.50      0.50      0.47    443834\n",
      "weighted avg       0.59      0.67      0.61    443834\n",
      "\n"
     ]
    }
   ],
   "execution_count": 23
  },
  {
   "metadata": {},
   "cell_type": "markdown",
   "source": "#### SVM: OnceClassSVM",
   "id": "47d1d265a24cf044"
  },
  {
   "metadata": {
    "jupyter": {
     "is_executing": true
    },
    "ExecuteTime": {
     "start_time": "2025-03-17T01:52:10.562899Z"
    }
   },
   "cell_type": "code",
   "source": [
    "from sklearn.svm import OneClassSVM\n",
    "\n",
    "n_data =  5000\n",
    "model = OneClassSVM(nu=0.1, kernel=\"rbf\", gamma=\"auto\")\n",
    "model.fit(df_normal[:n_data])\n",
    "\n",
    "y_pred_normal = model.predict(df_normal)\n",
    "y_pred_anomaly = model.predict(df_anomaly)\n",
    "\n",
    "y_true = [1] * len(y_pred_normal) + [-1] * len(y_pred_anomaly)\n",
    "y_pred = list(y_pred_normal) + list(y_pred_anomaly)\n",
    "\n",
    "print(classification_report(y_true, y_pred))"
   ],
   "id": "eeb7ee63a778f81a",
   "outputs": [],
   "execution_count": null
  },
  {
   "metadata": {
    "ExecuteTime": {
     "end_time": "2025-03-17T01:43:46.653397Z",
     "start_time": "2025-03-17T01:43:46.623648Z"
    }
   },
   "cell_type": "code",
   "source": [
    "from sklearn.preprocessing import StandardScaler\n",
    "\n",
    "# Apply feature scaling\n",
    "scaler = StandardScaler()\n",
    "df_normal_scaled = scaler.fit_transform(df_normal)\n",
    "df_anomaly_scaled = scaler.transform(df_anomaly)"
   ],
   "id": "f297f30c3323c717",
   "outputs": [],
   "execution_count": 8
  },
  {
   "metadata": {
    "ExecuteTime": {
     "end_time": "2025-03-17T01:43:48.667792Z",
     "start_time": "2025-03-17T01:43:46.662302Z"
    }
   },
   "cell_type": "code",
   "source": [
    "# OneClassSVM on scaled data\n",
    "from sklearn.svm import OneClassSVM\n",
    "\n",
    "n_data =  3000\n",
    "\n",
    "model = OneClassSVM(nu=0.1, kernel=\"rbf\", gamma=\"auto\")\n",
    "model.fit(df_normal_scaled[:n_data])\n",
    "\n",
    "y_pred_normal = model.predict(df_normal_scaled)\n",
    "y_pred_anomaly = model.predict(df_anomaly_scaled)\n",
    "\n",
    "y_true = [1] * len(y_pred_normal) + [-1] * len(y_pred_anomaly)\n",
    "y_pred = list(y_pred_normal) + list(y_pred_anomaly)\n",
    "\n",
    "# Evaluate model\n",
    "print(classification_report(y_true, y_pred))"
   ],
   "id": "f0e9854cfa02af20",
   "outputs": [
    {
     "name": "stdout",
     "output_type": "stream",
     "text": [
      "              precision    recall  f1-score   support\n",
      "\n",
      "          -1       0.29      0.15      0.20    127391\n",
      "           1       0.71      0.85      0.78    316443\n",
      "\n",
      "    accuracy                           0.65    443834\n",
      "   macro avg       0.50      0.50      0.49    443834\n",
      "weighted avg       0.59      0.65      0.61    443834\n",
      "\n"
     ]
    }
   ],
   "execution_count": 9
  },
  {
   "metadata": {
    "ExecuteTime": {
     "end_time": "2025-03-17T01:44:55.996887Z",
     "start_time": "2025-03-17T01:44:51.125844Z"
    }
   },
   "cell_type": "code",
   "source": [
    "# Tuned OneClassSVM\n",
    "from sklearn.svm import OneClassSVM\n",
    "from sklearn.metrics import classification_report\n",
    "\n",
    "n_data =  30000\n",
    "\n",
    "model = OneClassSVM(nu=0.05, kernel=\"rbf\", gamma=0.001)\n",
    "model.fit(df_normal[:n_data])\n",
    "\n",
    "\n",
    "y_pred_normal = model.predict(df_normal[:n_data])\n",
    "y_pred_anomaly = model.predict(df_anomaly[:n_data])\n",
    "\n",
    "y_true = [1] * len(y_pred_normal) + [-1] * len(y_pred_anomaly)\n",
    "y_pred = list(y_pred_normal) + list(y_pred_anomaly)\n",
    "\n",
    "print(classification_report(y_true, y_pred))"
   ],
   "id": "8dbb3a7d1f024997",
   "outputs": [
    {
     "name": "stdout",
     "output_type": "stream",
     "text": [
      "              precision    recall  f1-score   support\n",
      "\n",
      "          -1       0.48      0.05      0.08     30000\n",
      "           1       0.50      0.95      0.65     30000\n",
      "\n",
      "    accuracy                           0.50     60000\n",
      "   macro avg       0.49      0.50      0.37     60000\n",
      "weighted avg       0.49      0.50      0.37     60000\n",
      "\n"
     ]
    }
   ],
   "execution_count": 17
  },
  {
   "metadata": {
    "ExecuteTime": {
     "end_time": "2025-03-17T01:43:48.816101Z",
     "start_time": "2025-03-17T01:43:48.814509Z"
    }
   },
   "cell_type": "code",
   "source": "",
   "id": "2fe6a613a844f720",
   "outputs": [],
   "execution_count": null
  }
 ],
 "metadata": {
  "kernelspec": {
   "name": "python3",
   "language": "python",
   "display_name": "Python 3 (ipykernel)"
  }
 },
 "nbformat": 5,
 "nbformat_minor": 9
}
